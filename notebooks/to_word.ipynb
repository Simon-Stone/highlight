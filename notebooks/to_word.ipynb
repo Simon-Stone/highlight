{
 "cells": [
  {
   "cell_type": "code",
   "execution_count": 3,
   "id": "556b5f62-4dbb-40c7-82bf-de60ae80a889",
   "metadata": {},
   "outputs": [],
   "source": [
    "import os\n",
    "\n",
    "import docx\n",
    "import docxtpl\n",
    "from docx import Document\n",
    "from docxtpl import DocxTemplate\n"
   ]
  },
  {
   "cell_type": "code",
   "execution_count": 10,
   "id": "de4ab4ee-9454-4c6d-b09a-99f276012ec9",
   "metadata": {},
   "outputs": [],
   "source": [
    "template_file = \"/Users/d3y010/repos/crvernon/highlight/data/highlight_template.docx\"\n",
    "\n",
    "output_file = \"/Users/d3y010/repos/crvernon/highlight/data/updated_highlight_template.docx\"\n"
   ]
  },
  {
   "cell_type": "code",
   "execution_count": 4,
   "id": "e1a0640a-45a0-44fa-992c-5e6caa312319",
   "metadata": {},
   "outputs": [],
   "source": [
    "template = DocxTemplate(template_file)\n",
    "\n"
   ]
  },
  {
   "cell_type": "code",
   "execution_count": 7,
   "id": "61a55a2e-e622-45d8-b93b-95f00d3c3a36",
   "metadata": {},
   "outputs": [],
   "source": [
    "parameters = {\n",
    "    'title' : None,\n",
    "    'subtitle' : None,\n",
    "    'photo' : None,\n",
    "    'photo_link': None,\n",
    "    'photo_site_name' : None,\n",
    "    'image_caption': None,\n",
    "    'science' : None,\n",
    "    'impact' : None,\n",
    "    'summary' : None,\n",
    "    'funding' : None,\n",
    "    'citation' : None,\n",
    "    'related_links' : None\n",
    "}\n"
   ]
  },
  {
   "cell_type": "code",
   "execution_count": 8,
   "id": "1312791d-2274-4933-86be-e97248ad68e4",
   "metadata": {},
   "outputs": [],
   "source": [
    "parameters = {\n",
    "    'title' : \"Agamemnon\",\n",
    "    'subtitle' : \"I lost my gold\",\n",
    "    'photo' : None,\n",
    "    'photo_link': None,\n",
    "    'photo_site_name' : None,\n",
    "    'image_caption': None,\n",
    "    'science' : \"life without bounds\",\n",
    "    'impact' : \"items are hurtful\",\n",
    "    'summary' : \"life without items\",\n",
    "    'funding' : None,\n",
    "    'citation' : None,\n",
    "    'related_links' : None\n",
    "}\n"
   ]
  },
  {
   "cell_type": "code",
   "execution_count": 9,
   "id": "6dc1e5ff-9274-4f77-ae2e-aaa337ca00ed",
   "metadata": {},
   "outputs": [],
   "source": [
    "template.render(parameters)\n"
   ]
  },
  {
   "cell_type": "code",
   "execution_count": 11,
   "id": "4c0fe8c0-22c4-460b-846f-67d6c7813ed6",
   "metadata": {},
   "outputs": [],
   "source": [
    "template.save(output_file)\n",
    "\n"
   ]
  },
  {
   "cell_type": "code",
   "execution_count": null,
   "id": "198c2c44-d053-4859-af7b-0129697d1369",
   "metadata": {},
   "outputs": [],
   "source": []
  }
 ],
 "metadata": {
  "kernelspec": {
   "display_name": "py3.11.2_nlp",
   "language": "python",
   "name": "py3.11.2_nlp"
  },
  "language_info": {
   "codemirror_mode": {
    "name": "ipython",
    "version": 3
   },
   "file_extension": ".py",
   "mimetype": "text/x-python",
   "name": "python",
   "nbconvert_exporter": "python",
   "pygments_lexer": "ipython3",
   "version": "3.11.2"
  }
 },
 "nbformat": 4,
 "nbformat_minor": 5
}
